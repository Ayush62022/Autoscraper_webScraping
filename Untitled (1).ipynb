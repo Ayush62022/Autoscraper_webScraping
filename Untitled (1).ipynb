{
 "cells": [
  {
   "cell_type": "code",
   "execution_count": 1,
   "id": "88c1d2f1",
   "metadata": {},
   "outputs": [
    {
     "name": "stdout",
     "output_type": "stream",
     "text": [
      "Collecting AutoScraper\n",
      "  Downloading autoscraper-1.1.14-py3-none-any.whl (10 kB)\n",
      "Requirement already satisfied: requests in c:\\users\\ayush nath tiwari\\anaconda3\\lib\\site-packages (from AutoScraper) (2.31.0)\n",
      "Collecting bs4 (from AutoScraper)\n",
      "  Obtaining dependency information for bs4 from https://files.pythonhosted.org/packages/51/bb/bf7aab772a159614954d84aa832c129624ba6c32faa559dfb200a534e50b/bs4-0.0.2-py2.py3-none-any.whl.metadata\n",
      "  Downloading bs4-0.0.2-py2.py3-none-any.whl.metadata (411 bytes)\n",
      "Requirement already satisfied: lxml in c:\\users\\ayush nath tiwari\\anaconda3\\lib\\site-packages (from AutoScraper) (4.9.3)\n",
      "Requirement already satisfied: beautifulsoup4 in c:\\users\\ayush nath tiwari\\anaconda3\\lib\\site-packages (from bs4->AutoScraper) (4.12.2)\n",
      "Requirement already satisfied: charset-normalizer<4,>=2 in c:\\users\\ayush nath tiwari\\anaconda3\\lib\\site-packages (from requests->AutoScraper) (2.0.4)\n",
      "Requirement already satisfied: idna<4,>=2.5 in c:\\users\\ayush nath tiwari\\anaconda3\\lib\\site-packages (from requests->AutoScraper) (3.4)\n",
      "Requirement already satisfied: urllib3<3,>=1.21.1 in c:\\users\\ayush nath tiwari\\anaconda3\\lib\\site-packages (from requests->AutoScraper) (1.26.16)\n",
      "Requirement already satisfied: certifi>=2017.4.17 in c:\\users\\ayush nath tiwari\\anaconda3\\lib\\site-packages (from requests->AutoScraper) (2023.7.22)\n",
      "Requirement already satisfied: soupsieve>1.2 in c:\\users\\ayush nath tiwari\\anaconda3\\lib\\site-packages (from beautifulsoup4->bs4->AutoScraper) (2.4)\n",
      "Downloading bs4-0.0.2-py2.py3-none-any.whl (1.2 kB)\n",
      "Installing collected packages: bs4, AutoScraper\n",
      "Successfully installed AutoScraper-1.1.14 bs4-0.0.2\n"
     ]
    }
   ],
   "source": [
    "!pip install AutoScraper"
   ]
  },
  {
   "cell_type": "code",
   "execution_count": 1,
   "id": "e4e6ebd1",
   "metadata": {},
   "outputs": [],
   "source": [
    "from autoscraper import AutoScraper"
   ]
  },
  {
   "cell_type": "code",
   "execution_count": 2,
   "id": "5f23e98b",
   "metadata": {},
   "outputs": [],
   "source": [
    "amazon_url =   \"https://www.amazon.in/s?k=iphomes\"\n",
    "\n",
    "wanted_lst = [\"₹51,790  \",\"Apple iPhone 13 (128GB) - Blue\"]"
   ]
  },
  {
   "cell_type": "code",
   "execution_count": 3,
   "id": "fef326e1",
   "metadata": {},
   "outputs": [
    {
     "name": "stdout",
     "output_type": "stream",
     "text": [
      "['₹51,790', '₹52,700', '₹1,77,990', '₹80,990', '₹90,990', '₹1,48,900', '₹10,999', '₹1,37,990', '₹94,900', '₹61,900', '₹1,27,990', 'Apple iPhone 13 (128GB) - Midnight', 'Apple iPhone 13 (128GB) - Starlight', 'Apple iPhone 13 (128GB) - Blue', 'Apple iPhone 15 (256 GB) - Black', 'Apple iPhone 15 Plus (256 GB) - Blue', 'Apple iPhone 15 (256 GB) - Blue', 'Apple iPhone 13 (128GB) - Green', 'Apple iPhone 15 Pro Max (256 GB) - Blue Titanium', 'Apple iPhone 15 Plus (128 GB) - Black', 'Apple iPhone 15 Plus (128 GB) - Green', 'Original Smartphone Compatible with Apple iPhone 5s Silver (16GB Storage with 1-Year Warranty)', 'Apple iPhone 15 Pro (256 GB) - Natural Titanium', 'Apple iPhone 15 Plus (256 GB) - Black', 'Apple iPhone 15 (256 GB) - Pink', 'Apple iPhone 13 (256GB) - Pink', 'Apple iPhone 15 Pro (128 GB) - Natural Titanium', 'Apple iPhone 11 (128GB) - Black', 'Apple iPhone 15 Pro (1 TB) - Natural Titanium', 'Apple iPhone 15 Plus (128 GB) - Pink']\n"
     ]
    }
   ],
   "source": [
    "scraper = AutoScraper()\n",
    "result = scraper.build(amazon_url,wanted_lst)\n",
    "print(result)"
   ]
  },
  {
   "cell_type": "code",
   "execution_count": 4,
   "id": "ca69ab33",
   "metadata": {},
   "outputs": [
    {
     "data": {
      "text/plain": [
       "{'rule_abcg': ['₹51,790',\n",
       "  '₹52,700',\n",
       "  '₹51,790',\n",
       "  '₹1,77,990',\n",
       "  '₹80,990',\n",
       "  '₹80,990'],\n",
       " 'rule_ty2w': ['₹51,790',\n",
       "  '₹52,700',\n",
       "  '₹51,790',\n",
       "  '₹1,77,990',\n",
       "  '₹80,990',\n",
       "  '₹80,990'],\n",
       " 'rule_g2oc': ['₹51,790',\n",
       "  '₹51,790',\n",
       "  '₹51,790',\n",
       "  '₹80,990',\n",
       "  '₹90,990',\n",
       "  '₹80,990',\n",
       "  '₹51,790',\n",
       "  '₹1,48,900',\n",
       "  '₹80,990',\n",
       "  '₹80,990',\n",
       "  '₹10,999',\n",
       "  '₹1,37,990',\n",
       "  '₹94,900',\n",
       "  '₹80,990',\n",
       "  '₹61,900',\n",
       "  '₹1,27,990'],\n",
       " 'rule_59rn': ['₹51,790',\n",
       "  '₹51,790',\n",
       "  '₹51,790',\n",
       "  '₹80,990',\n",
       "  '₹90,990',\n",
       "  '₹80,990',\n",
       "  '₹51,790',\n",
       "  '₹1,48,900',\n",
       "  '₹80,990',\n",
       "  '₹80,990',\n",
       "  '₹10,999',\n",
       "  '₹1,37,990',\n",
       "  '₹94,900',\n",
       "  '₹80,990',\n",
       "  '₹61,900',\n",
       "  '₹1,27,990'],\n",
       " 'rule_eotd': ['₹51,790',\n",
       "  '₹51,790',\n",
       "  '₹51,790',\n",
       "  '₹80,990',\n",
       "  '₹90,990',\n",
       "  '₹80,990',\n",
       "  '₹51,790',\n",
       "  '₹1,48,900',\n",
       "  '₹80,990',\n",
       "  '₹80,990',\n",
       "  '₹10,999',\n",
       "  '₹1,37,990',\n",
       "  '₹94,900',\n",
       "  '₹80,990',\n",
       "  '₹61,900',\n",
       "  '₹1,27,990'],\n",
       " 'rule_811w': ['₹51,790',\n",
       "  '₹51,790',\n",
       "  '₹51,790',\n",
       "  '₹80,990',\n",
       "  '₹90,990',\n",
       "  '₹80,990',\n",
       "  '₹51,790',\n",
       "  '₹1,48,900',\n",
       "  '₹80,990',\n",
       "  '₹80,990',\n",
       "  '₹10,999',\n",
       "  '₹1,37,990',\n",
       "  '₹94,900',\n",
       "  '₹80,990',\n",
       "  '₹61,900',\n",
       "  '₹1,27,990'],\n",
       " 'rule_7k5s': ['₹51,790',\n",
       "  '₹51,790',\n",
       "  '₹51,790',\n",
       "  '₹80,990',\n",
       "  '₹90,990',\n",
       "  '₹80,990',\n",
       "  '₹51,790',\n",
       "  '₹1,48,900',\n",
       "  '₹80,990',\n",
       "  '₹80,990',\n",
       "  '₹10,999',\n",
       "  '₹1,37,990',\n",
       "  '₹94,900',\n",
       "  '₹80,990',\n",
       "  '₹61,900',\n",
       "  '₹1,27,990'],\n",
       " 'rule_5of5': ['₹51,790',\n",
       "  '₹51,790',\n",
       "  '₹51,790',\n",
       "  '₹80,990',\n",
       "  '₹90,990',\n",
       "  '₹80,990',\n",
       "  '₹51,790',\n",
       "  '₹1,48,900',\n",
       "  '₹80,990',\n",
       "  '₹80,990',\n",
       "  '₹10,999',\n",
       "  '₹1,37,990',\n",
       "  '₹94,900',\n",
       "  '₹80,990',\n",
       "  '₹61,900',\n",
       "  '₹1,27,990'],\n",
       " 'rule_dgb1': ['₹51,790',\n",
       "  '₹51,790',\n",
       "  '₹51,790',\n",
       "  '₹80,990',\n",
       "  '₹90,990',\n",
       "  '₹80,990',\n",
       "  '₹51,790',\n",
       "  '₹1,48,900',\n",
       "  '₹80,990',\n",
       "  '₹80,990',\n",
       "  '₹10,999',\n",
       "  '₹1,37,990',\n",
       "  '₹94,900',\n",
       "  '₹80,990',\n",
       "  '₹61,900',\n",
       "  '₹1,27,990'],\n",
       " 'rule_bn1t': ['₹51,790',\n",
       "  '₹51,790',\n",
       "  '₹51,790',\n",
       "  '₹80,990',\n",
       "  '₹90,990',\n",
       "  '₹80,990',\n",
       "  '₹51,790',\n",
       "  '₹1,48,900',\n",
       "  '₹80,990',\n",
       "  '₹80,990',\n",
       "  '₹10,999',\n",
       "  '₹1,37,990',\n",
       "  '₹94,900',\n",
       "  '₹80,990',\n",
       "  '₹61,900',\n",
       "  '₹1,27,990'],\n",
       " 'rule_qc1o': ['₹51,790',\n",
       "  '₹52,700',\n",
       "  '₹51,790',\n",
       "  '₹1,77,990',\n",
       "  '₹80,990',\n",
       "  '₹80,990'],\n",
       " 'rule_p3w7': ['₹51,790',\n",
       "  '₹52,700',\n",
       "  '₹51,790',\n",
       "  '₹1,77,990',\n",
       "  '₹80,990',\n",
       "  '₹80,990'],\n",
       " 'rule_p9w0': ['Apple iPhone 13 (128GB) - Midnight',\n",
       "  'Apple iPhone 13 (128GB) - Starlight',\n",
       "  'Apple iPhone 13 (128GB) - Blue',\n",
       "  'Apple iPhone 15 (256 GB) - Black',\n",
       "  'Apple iPhone 15 Plus (256 GB) - Blue',\n",
       "  'Apple iPhone 15 (256 GB) - Blue',\n",
       "  'Apple iPhone 13 (128GB) - Green',\n",
       "  'Apple iPhone 15 Pro Max (256 GB) - Blue Titanium',\n",
       "  'Apple iPhone 15 Plus (128 GB) - Black',\n",
       "  'Apple iPhone 15 Plus (128 GB) - Green',\n",
       "  'Original Smartphone Compatible with Apple iPhone 5s Silver (16GB Storage with 1-Year Warranty)',\n",
       "  'Apple iPhone 15 Pro (256 GB) - Natural Titanium',\n",
       "  'Apple iPhone 15 Plus (256 GB) - Black',\n",
       "  'Apple iPhone 15 (256 GB) - Pink',\n",
       "  'Apple iPhone 13 (256GB) - Pink',\n",
       "  'Apple iPhone 15 Pro (128 GB) - Natural Titanium'],\n",
       " 'rule_mozk': ['Apple iPhone 13 (128GB) - Midnight',\n",
       "  'Apple iPhone 13 (128GB) - Starlight',\n",
       "  'Apple iPhone 13 (128GB) - Blue',\n",
       "  'Apple iPhone 15 (256 GB) - Black',\n",
       "  'Apple iPhone 15 Plus (256 GB) - Blue',\n",
       "  'Apple iPhone 15 (256 GB) - Blue',\n",
       "  'Apple iPhone 13 (128GB) - Green',\n",
       "  'Apple iPhone 15 Pro Max (256 GB) - Blue Titanium',\n",
       "  'Apple iPhone 15 Plus (128 GB) - Black',\n",
       "  'Apple iPhone 15 Plus (128 GB) - Green',\n",
       "  'Original Smartphone Compatible with Apple iPhone 5s Silver (16GB Storage with 1-Year Warranty)',\n",
       "  'Apple iPhone 15 Pro (256 GB) - Natural Titanium',\n",
       "  'Apple iPhone 15 Plus (256 GB) - Black',\n",
       "  'Apple iPhone 15 (256 GB) - Pink',\n",
       "  'Apple iPhone 13 (256GB) - Pink',\n",
       "  'Apple iPhone 15 Pro (128 GB) - Natural Titanium'],\n",
       " 'rule_ghrp': ['Apple iPhone 13 (128GB) - Blue',\n",
       "  'Apple iPhone 11 (128GB) - Black',\n",
       "  'Apple iPhone 13 (128GB) - Green',\n",
       "  'Apple iPhone 15 Pro (1 TB) - Natural Titanium',\n",
       "  'Apple iPhone 15 (256 GB) - Pink',\n",
       "  'Apple iPhone 15 Plus (128 GB) - Pink']}"
      ]
     },
     "execution_count": 4,
     "metadata": {},
     "output_type": "execute_result"
    }
   ],
   "source": [
    "scraper.get_result_similar(amazon_url,grouped = True)"
   ]
  },
  {
   "cell_type": "code",
   "execution_count": 5,
   "id": "32fdb823",
   "metadata": {},
   "outputs": [],
   "source": [
    "scraper.set_rule_aliases({'rule_p9w0':\"Title\",\"rule_abcg\":\"Price\"})\n",
    "scraper.keep_rules(['rule_p9w0','rule_abcg'])\n",
    "scraper.save(\"amazon_search\")"
   ]
  },
  {
   "cell_type": "code",
   "execution_count": 6,
   "id": "6aad652f",
   "metadata": {},
   "outputs": [],
   "source": [
    "result =  scraper.get_result_similar(\"https://www.amazon.in/s?k=mi+phones\",group_by_alias=True)"
   ]
  },
  {
   "cell_type": "code",
   "execution_count": 7,
   "id": "60e659bd",
   "metadata": {},
   "outputs": [
    {
     "data": {
      "text/plain": [
       "['₹17,999', '₹7,499', '₹1,29,994', '₹6,799', '₹12,999', '₹8,999']"
      ]
     },
     "execution_count": 7,
     "metadata": {},
     "output_type": "execute_result"
    }
   ],
   "source": [
    "result['Price']"
   ]
  },
  {
   "cell_type": "code",
   "execution_count": null,
   "id": "73deac92",
   "metadata": {},
   "outputs": [],
   "source": []
  }
 ],
 "metadata": {
  "kernelspec": {
   "display_name": "Python 3 (ipykernel)",
   "language": "python",
   "name": "python3"
  },
  "language_info": {
   "codemirror_mode": {
    "name": "ipython",
    "version": 3
   },
   "file_extension": ".py",
   "mimetype": "text/x-python",
   "name": "python",
   "nbconvert_exporter": "python",
   "pygments_lexer": "ipython3",
   "version": "3.11.5"
  }
 },
 "nbformat": 4,
 "nbformat_minor": 5
}
